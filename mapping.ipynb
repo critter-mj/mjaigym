{
 "cells": [
  {
   "cell_type": "code",
   "execution_count": null,
   "metadata": {},
   "outputs": [],
   "source": [
    "import numpy as np\n",
    "import pandas as pd\n",
    "import seaborn as sns\n",
    "\n",
    "import mjaigym\n",
    "from mjaigym.mjson import Mjson\n",
    "from ml.custom_observer import SampleCustomObserver\n",
    "from mjaigym.board import ArchiveBoard\n",
    "from mjaigym.reward import KyokuScoreReward\n",
    "\n"
   ]
  },
  {
   "cell_type": "code",
   "execution_count": null,
   "metadata": {},
   "outputs": [],
   "source": []
  },
  {
   "cell_type": "markdown",
   "metadata": {},
   "source": [
    "# Load mjson"
   ]
  },
  {
   "cell_type": "code",
   "execution_count": null,
   "metadata": {},
   "outputs": [],
   "source": [
    "mjson = Mjson.load('/data/mjson/test/201712/2017123123gm-00e1-0000-f75ac2b9.mjson')"
   ]
  },
  {
   "cell_type": "markdown",
   "metadata": {},
   "source": [
    "# featurize mjson"
   ]
  },
  {
   "cell_type": "code",
   "execution_count": null,
   "metadata": {
    "tags": []
   },
   "outputs": [],
   "source": [
    "env = SampleCustomObserver(board=ArchiveBoard(), reward_calclator_cls=KyokuScoreReward)\n",
    "env.reset()\n",
    "\n",
    "states = []\n",
    "for kyoku_id, kyoku in enumerate(mjson.game.kyokus):\n",
    "    for index, action in enumerate(kyoku.kyoku_mjsons):\n",
    "        next_state, reward, done, info = env.step(action)\n",
    "\n",
    "        for player_id in range(4):\n",
    "            next_state[player_id].calclate()\n",
    "            if next_state[player_id].dahai_observation is not None:\n",
    "                states.append((kyoku_id, index, player_id, next_state[player_id].dahai_observation))\n"
   ]
  },
  {
   "cell_type": "code",
   "execution_count": null,
   "metadata": {
    "tags": []
   },
   "outputs": [],
   "source": []
  },
  {
   "cell_type": "markdown",
   "metadata": {},
   "source": [
    "# Get MLP middle filter output "
   ]
  },
  {
   "cell_type": "code",
   "execution_count": null,
   "metadata": {},
   "outputs": [],
   "source": [
    "from ml.model import Head34Value1SlModel\n",
    "\n",
    "model = Head34Value1SlModel(\n",
    "    in_channels=env.get_tsumo_observe_channels_num(),\n",
    "    mid_channels=256,\n",
    "    blocks_num=50,\n",
    "    learning_rate=0.0001,\n",
    "    batch_size=256\n",
    ")\n",
    "\n",
    "model.load(\"./cache/dahai.pth\")"
   ]
  },
  {
   "cell_type": "code",
   "execution_count": null,
   "metadata": {},
   "outputs": [],
   "source": []
  },
  {
   "cell_type": "code",
   "execution_count": null,
   "metadata": {
    "tags": []
   },
   "outputs": [],
   "source": [
    "dataset = []\n",
    "\n",
    "for (kyoku_id, line_index, player_id, dahai_state) in states:\n",
    "    p, v, v_mid = model.predict([dahai_state])\n",
    "    dataset.append({\n",
    "        \"kyoku_id\":kyoku_id,\n",
    "        \"line_index\":line_index, \n",
    "        \"player_id\":player_id, \n",
    "        \"p\":np.argmax(p), \n",
    "        \"v\":v[0][0],\n",
    "        \"v_mid\":v_mid[0]\n",
    "        })\n",
    "\n",
    "dataset = pd.DataFrame(dataset)\n",
    "\n",
    "dataset"
   ]
  },
  {
   "cell_type": "code",
   "execution_count": null,
   "metadata": {},
   "outputs": [],
   "source": []
  },
  {
   "cell_type": "code",
   "execution_count": null,
   "metadata": {},
   "outputs": [],
   "source": [
    "%matplotlib inline\n",
    "import umap\n",
    "import time\n",
    "import matplotlib.pyplot as plt\n",
    "import matplotlib.cm as cm\n",
    "from sklearn.manifold import TSNE"
   ]
  },
  {
   "cell_type": "code",
   "execution_count": null,
   "metadata": {},
   "outputs": [],
   "source": [
    "\n"
   ]
  },
  {
   "cell_type": "code",
   "execution_count": null,
   "metadata": {},
   "outputs": [],
   "source": [
    "start_time = time.time()\n",
    "#embedding = umap.UMAP().fit_transform(np.vstack(dataset.v_mid))\n",
    "tsne_model = TSNE(n_components=2)\n",
    "embedding = tsne_model.fit_transform(np.vstack(dataset.v_mid))\n",
    "interval = time.time() - start_time\n",
    "\n",
    "\n",
    "fig = plt.figure(figsize=(16,6))\n",
    "mark_list = [\"o\", \"+\", \"s\", \">\"]\n",
    "color_list = [\"Red\", \"Blue\", \"Green\", \"Black\"]\n",
    "#  for color_id, color in enumerate(colors_list):\n",
    "cmap = plt.get_cmap(\"Reds\")\n",
    "\n",
    "for i in range(len(dataset)):\n",
    "    target_index = i\n",
    "    kyoku_id = dataset.kyoku_id[target_index]\n",
    "    player_id = dataset.player_id[target_index]\n",
    "    mark = mark_list[player_id]\n",
    "    mappable = plt.scatter(embedding[target_index,0], embedding[target_index,1], \n",
    "                           color=cmap(((kyoku_id-1)*4+player_id)/16), \n",
    "                           s=200, \n",
    "                           marker=\"$\"+f\"{str(i)}\"+\"$\", \n",
    "                           vmin=0, vmax=1)\n",
    "\n",
    "#fig.colorbar(mappable)\n",
    "plt.legend([0,1,2,3])\n",
    "plt.show()\n"
   ]
  },
  {
   "cell_type": "code",
   "execution_count": null,
   "metadata": {},
   "outputs": [],
   "source": [
    "sns.lineplot(x='line_index', y='v', hue='player_id', data=dataset)"
   ]
  }
 ],
 "metadata": {
  "kernelspec": {
   "display_name": "kaggle",
   "language": "python",
   "name": "kaggle"
  },
  "language_info": {
   "codemirror_mode": {
    "name": "ipython",
    "version": 3
   },
   "file_extension": ".py",
   "mimetype": "text/x-python",
   "name": "python",
   "nbconvert_exporter": "python",
   "pygments_lexer": "ipython3",
   "version": "3.7.3"
  }
 },
 "nbformat": 4,
 "nbformat_minor": 2
}