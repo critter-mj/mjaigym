{
 "cells": [
  {
   "cell_type": "code",
   "execution_count": null,
   "metadata": {},
   "outputs": [],
   "source": [
    "import numpy as np\n",
    "import pandas as pd\n",
    "import seaborn as sns\n",
    "\n",
    "import mjaigym\n",
    "from mjaigym.mjson import Mjson\n",
    "from ml.custom_observer import SampleCustomObserver\n",
    "from mjaigym.board import ArchiveBoard\n",
    "from mjaigym.reward import KyokuScoreReward\n",
    "\n"
   ]
  },
  {
   "cell_type": "code",
   "execution_count": null,
   "metadata": {},
   "outputs": [],
   "source": []
  },
  {
   "cell_type": "markdown",
   "metadata": {},
   "source": [
    "# Load mjson"
   ]
  },
  {
   "cell_type": "code",
   "execution_count": null,
   "metadata": {},
   "outputs": [],
   "source": [
    "import pathlib\n",
    "mjson_paths = pathlib.Path(\"/mnt/wd4tb/converted_mjson/201712/\").glob(\"*.mjson\")\n",
    "mjson_paths = list(mjson_paths)[:1]\n",
    "# mjson = Mjson.load('/mnt/wd4tb/converted_mjson/201712/2017123123gm-00e1-0000-f75ac2b9.mjson')"
   ]
  },
  {
   "cell_type": "markdown",
   "metadata": {},
   "source": [
    "# featurize mjson"
   ]
  },
  {
   "cell_type": "code",
   "execution_count": null,
   "metadata": {
    "tags": []
   },
   "outputs": [],
   "source": [
    "from joblib import Parallel, delayed\n",
    "from multiprocessing import Pool\n",
    "import multiprocessing\n",
    "from tqdm.auto import tqdm\n",
    "\n",
    "def analyze(args):\n",
    "    game_id, mjson_path = args\n",
    "    states = []\n",
    "    last_reward = [0,0,0,0]\n",
    "    mjson = Mjson.load(mjson_path)\n",
    "    env = SampleCustomObserver(board=ArchiveBoard(), reward_calclator_cls=KyokuScoreReward)\n",
    "    env.reset()\n",
    "    for kyoku_id, kyoku in enumerate(mjson.game.kyokus):\n",
    "        kyoku_states = []\n",
    "        for index, action in enumerate(kyoku.kyoku_mjsons):\n",
    "            next_state, reward, done, info = env.step(action)\n",
    "\n",
    "            for player_id in range(4):\n",
    "                next_state[player_id].calclate()\n",
    "                if next_state[player_id].dahai_observation is not None:\n",
    "                    kyoku_states.append([\n",
    "                        game_id, \n",
    "                        kyoku_id, \n",
    "                        index, \n",
    "                        player_id, \n",
    "                        next_state[player_id].dahai_observation])\n",
    "            last_reward = reward\n",
    "        \n",
    "            \n",
    "        # update rewards(not discounted)\n",
    "        kyoku_rewards = list(reversed([list(np.array(last_reward)*(0.99**index)/1000.0) for index in range(len(kyoku_states))]))\n",
    "        kyoku_states = [kyoku_state+[kyoku_rewards[index]] for (index, kyoku_state) in enumerate(kyoku_states)]\n",
    "        states.extend(kyoku_states)\n",
    "\n",
    "    return states\n",
    "\n",
    "with Pool(multiprocessing.cpu_count()) as pool:\n",
    "    imap = pool.imap(analyze, enumerate(mjson_paths))\n",
    "    result = list(tqdm(imap, total=len(mjson_paths)))\n",
    "\n",
    "import itertools\n",
    "states = list(itertools.chain.from_iterable(result))\n"
   ]
  },
  {
   "cell_type": "markdown",
   "metadata": {},
   "source": [
    "# Get MLP middle filter output "
   ]
  },
  {
   "cell_type": "code",
   "execution_count": null,
   "metadata": {
    "tags": []
   },
   "outputs": [],
   "source": [
    "from ml.model import Head34Value1SlModel\n",
    "env = SampleCustomObserver(board=ArchiveBoard(), reward_calclator_cls=KyokuScoreReward)\n",
    "model = Head34Value1SlModel(\n",
    "    in_channels=env.get_tsumo_observe_channels_num(),\n",
    "    mid_channels=256,\n",
    "    blocks_num=50,\n",
    "    learning_rate=0.0001,\n",
    "    batch_size=256\n",
    ")\n",
    "\n",
    "model.load(\"output/logs/20201017_080649/103522/dahai.pth\")\n",
    "# from torchsummary import summary\n",
    "# summary(model.model,(1165,34,1))"
   ]
  },
  {
   "cell_type": "code",
   "execution_count": null,
   "metadata": {},
   "outputs": [],
   "source": []
  },
  {
   "cell_type": "code",
   "execution_count": null,
   "metadata": {
    "tags": []
   },
   "outputs": [],
   "source": [
    "%%time\n",
    "import random\n",
    "\n",
    "def convert_player_oriented(player_id, rewards):\n",
    "    return [\n",
    "            rewards[player_id],\n",
    "            rewards[(player_id+1)%4],\n",
    "            rewards[(player_id+2)%4],\n",
    "            rewards[(player_id+3)%4],\n",
    "        ]\n",
    "    \n",
    "\n",
    "states = random.sample(states, min(4,len(states)))\n",
    "\n",
    "game_ids = [s[0] for s in states]\n",
    "kyoku_ids = [s[1] for s in states]\n",
    "line_indexs = [s[2] for s in states]\n",
    "player_ids = [s[3] for s in states]\n",
    "dahai_states = [s[4] for s in states]\n",
    "rewards = [s[5] for s in states]\n",
    "player_oriented_rewards = [convert_player_oriented(player_ids[i], rewards[i]) for i in range(len(rewards))]\n",
    "\n",
    "ps, vs, v_mids, p_mids = model.predict(dahai_states)\n",
    "\n"
   ]
  },
  {
   "cell_type": "code",
   "execution_count": null,
   "metadata": {},
   "outputs": [],
   "source": [
    "\n",
    "\n",
    "dataset =pd.DataFrame({\n",
    "    \"game_id\":game_ids,\n",
    "    \"kyoku_id\":kyoku_ids,\n",
    "    \"line_index\":line_indexs, \n",
    "    \"player_id\":player_ids, \n",
    "    \"p\":[np.argmax(p) for p in ps], \n",
    "    \"v0\":[v[0] for v in vs],\n",
    "    \"v1\":[v[1] for v in vs],\n",
    "    \"v2\":[v[2] for v in vs],\n",
    "    \"v3\":[v[3] for v in vs],\n",
    "    \"v_mid\":[v_mid for v_mid in v_mids],\n",
    "    \"p_mid\":[p_mid for p_mid in p_mids],\n",
    "    \"player_oriented_reward0\":[pr[0] for pr in player_oriented_rewards],\n",
    "    \"player_oriented_reward1\":[pr[1] for pr in player_oriented_rewards],\n",
    "    \"player_oriented_reward2\":[pr[2] for pr in player_oriented_rewards],\n",
    "    \"player_oriented_reward3\":[pr[3] for pr in player_oriented_rewards],\n",
    "    })\n",
    "dataset[dataset.player_id==0].head()"
   ]
  },
  {
   "cell_type": "code",
   "execution_count": null,
   "metadata": {},
   "outputs": [],
   "source": [
    "# dataset[['v0', 'player_oriented_reward0']].plot()\n",
    "(dataset.v0 - dataset.player_oriented_reward0).plot()"
   ]
  },
  {
   "cell_type": "code",
   "execution_count": null,
   "metadata": {},
   "outputs": [],
   "source": [
    "%matplotlib inline\n",
    "from scipy.sparse.csgraph import connected_components\n",
    "import umap\n",
    "import time\n",
    "import matplotlib.pyplot as plt\n",
    "import matplotlib.cm as cm\n",
    "from sklearn.manifold import TSNE"
   ]
  },
  {
   "cell_type": "code",
   "execution_count": null,
   "metadata": {},
   "outputs": [],
   "source": [
    "\n",
    "raw_embedded_v = np.vstack(dataset.v_mid)\n",
    "raw_embedded_p = np.vstack(dataset.p_mid)"
   ]
  },
  {
   "cell_type": "code",
   "execution_count": null,
   "metadata": {},
   "outputs": [],
   "source": [
    "import sklearn.base\n",
    "import bhtsne\n",
    "import numpy as np\n",
    "\n",
    "\n",
    "class BHTSNE(sklearn.base.BaseEstimator, sklearn.base.TransformerMixin):\n",
    "\n",
    "    def __init__(self, dimensions=2, perplexity=30.0, theta=0.5, rand_seed=-1):\n",
    "        self.dimensions = dimensions\n",
    "        self.perplexity = perplexity\n",
    "        self.theta = theta\n",
    "        self.rand_seed = rand_seed\n",
    "\n",
    "    def fit_transform(self, x):\n",
    "        return bhtsne.tsne(\n",
    "            x.astype(np.float64), dimensions=self.dimensions, perplexity=self.perplexity, theta=self.theta,\n",
    "            rand_seed=self.rand_seed)\n"
   ]
  },
  {
   "cell_type": "code",
   "execution_count": null,
   "metadata": {},
   "outputs": [],
   "source": [
    "%%time\n",
    "\n",
    "print(\"start umap\")\n",
    "embedding = umap.UMAP().fit_transform(raw_embedded_p)\n",
    "print(\"finish umap\")\n",
    "\n",
    "# bntsne = BHTSNE()\n",
    "# embedding = bntsne.fit_transform(data)\n",
    "# embedding = umap.UMAP().fit_transform(raw_embedded)\n",
    "# tsne_model = TSNE(n_components=2)\n",
    "# embedding = tsne_model.fit_transform(raw_embedded)\n",
    "\n"
   ]
  },
  {
   "cell_type": "code",
   "execution_count": null,
   "metadata": {},
   "outputs": [],
   "source": [
    "\n",
    "fig = plt.figure(figsize=(16,6))\n",
    "mark_list = [\"o\", \"+\", \"s\", \">\"]\n",
    "color_list = [\"Red\", \"Blue\", \"Green\", \"Black\"]\n",
    "#  for color_id, color in enumerate(colors_list):\n",
    "cmap = plt.get_cmap(\"Reds\")\n",
    "\n",
    "\n",
    "key = dataset.game_id.astype(str) + '_' + dataset.kyoku_id.astype(str) + '_' + dataset.player_id.astype(str)\n",
    "df = pd.DataFrame({\n",
    "    \"x\":embedding[:,0],\n",
    "    \"y\":embedding[:,1],\n",
    "    \"hue\":key,\n",
    "    \"v0\":dataset.v0,    \n",
    "    \"v1\":dataset.v1,    \n",
    "    \"v2\":dataset.v2,    \n",
    "    \"v3\":dataset.v3,    \n",
    "    \"p\":dataset.p,    \n",
    "})\n",
    "\n",
    "fig, ax = plt.subplots()\n",
    "\n",
    "\n",
    "labels, uniques = pd.factorize(df.hue)\n",
    "df['labels'] = labels\n",
    "df['v1-v0'] = df.v1 - df.v0\n",
    "df['v2-v0'] = df.v2 - df.v0\n",
    "df['v3-v0'] = df.v3 - df.v0\n",
    "\n",
    "# #fig.colorbar(mappable)\n",
    "# plt.legend()\n",
    "# plt.show()\n",
    "\n",
    "# for key, group in grouped:\n",
    "# sns.scatterplot(x='x', y='y', data=df, hue='labels')\n",
    "sns.scatterplot(x='x', y='y', data=df, hue='v0')\n",
    "plt.show()\n",
    "sns.scatterplot(x='x', y='y', data=df, hue='v1')\n",
    "plt.show()\n",
    "sns.scatterplot(x='x', y='y', data=df, hue='v2')\n",
    "plt.show()\n",
    "sns.scatterplot(x='x', y='y', data=df, hue='v3')\n",
    "plt.show()\n",
    "sns.scatterplot(x='x', y='y', data=df, hue='p')\n",
    "\n",
    "\n",
    "plt.show()\n",
    "sns.scatterplot(x='x', y='y', data=df, hue='v1-v0')\n",
    "plt.show()\n",
    "sns.scatterplot(x='x', y='y', data=df, hue='v2-v0')\n",
    "plt.show()\n",
    "sns.scatterplot(x='x', y='y', data=df, hue='v3-v0')\n",
    "\n"
   ]
  }
 ],
 "metadata": {
  "kernelspec": {
   "name": "Python 3.8.5 64-bit ('mjsonapp': conda)",
   "display_name": "Python 3.8.5 64-bit ('mjsonapp': conda)",
   "metadata": {
    "interpreter": {
     "hash": "965c67e9a3d542e82ca69277c8d195efa5838c61330103834b432a7bf5fb7876"
    }
   }
  },
  "language_info": {
   "codemirror_mode": {
    "name": "ipython",
    "version": 3
   },
   "file_extension": ".py",
   "mimetype": "text/x-python",
   "name": "python",
   "nbconvert_exporter": "python",
   "pygments_lexer": "ipython3",
   "version": "3.8.5-final"
  }
 },
 "nbformat": 4,
 "nbformat_minor": 2
}