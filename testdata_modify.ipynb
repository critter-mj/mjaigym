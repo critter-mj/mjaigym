{
 "metadata": {
  "language_info": {
   "codemirror_mode": {
    "name": "ipython",
    "version": 3
   },
   "file_extension": ".py",
   "mimetype": "text/x-python",
   "name": "python",
   "nbconvert_exporter": "python",
   "pygments_lexer": "ipython3",
   "version": "3.8.5-final"
  },
  "orig_nbformat": 2,
  "kernelspec": {
   "name": "Python 3.8.5 64-bit ('mjsonapp': conda)",
   "display_name": "Python 3.8.5 64-bit ('mjsonapp': conda)",
   "metadata": {
    "interpreter": {
     "hash": "965c67e9a3d542e82ca69277c8d195efa5838c61330103834b432a7bf5fb7876"
    }
   }
  }
 },
 "nbformat": 4,
 "nbformat_minor": 2,
 "cells": [
  {
   "cell_type": "code",
   "execution_count": 1,
   "metadata": {},
   "outputs": [],
   "source": [
    "import numpy as np\n",
    "import joblib\n",
    "from dataclasses import dataclass\n",
    "from collections import deque\n",
    "\n",
    "\n",
    "@dataclass\n",
    "class StateActionRewards:\n",
    "    dahai_queue:deque\n",
    "    reach_queue:deque\n",
    "    chi_queue:deque\n",
    "    pon_queue:deque\n",
    "    kan_queue:deque\n",
    "\n",
    "    @classmethod\n",
    "    def create_empty(cls, length):\n",
    "        return StateActionRewards(\n",
    "            deque(maxlen=length),\n",
    "            deque(maxlen=length),\n",
    "            deque(maxlen=length),\n",
    "            deque(maxlen=length),\n",
    "            deque(maxlen=length)\n",
    "            )\n",
    "\n",
    "    def register_experience_to_sars(self, experiences:deque):\n",
    "        for experience in experiences:\n",
    "            for i in range(4):\n",
    "                player_state = experience.state[i]\n",
    "                # create dahai s_a_r\n",
    "                if player_state.dahai_observation is not None\\\n",
    "                    and not experience.board_state.reach[i]\\\n",
    "                    and experience.action[\"type\"] == MjMove.dahai.value:\n",
    "\n",
    "                    label = Pai.str_to_id(experience.action[\"pai\"])\n",
    "                    self.dahai_queue.append(tuple((\n",
    "                        player_state.dahai_observation,\n",
    "                        label,\n",
    "                        experience.reward,\n",
    "                    )))\n",
    "                \n",
    "                    # create reach ...\n",
    "    "
   ]
  },
  {
   "cell_type": "code",
   "execution_count": 2,
   "metadata": {},
   "outputs": [
    {
     "output_type": "execute_result",
     "data": {
      "text/plain": [
       "(1755, 34, 1)"
      ]
     },
     "metadata": {},
     "execution_count": 2
    }
   ],
   "source": [
    "f = joblib.load('/home/tanizawa/dev/python/mjaigym/cache/test_1024_1239.shared')\n",
    "np.array([s[2] for s in f.dahai_queue]).var()\n",
    "\n",
    "samples = [s[0] for s in f.dahai_queue]\n",
    "samples[1].shape"
   ]
  },
  {
   "cell_type": "code",
   "execution_count": 3,
   "metadata": {},
   "outputs": [
    {
     "output_type": "execute_result",
     "data": {
      "text/plain": [
       "1165"
      ]
     },
     "metadata": {},
     "execution_count": 3
    }
   ],
   "source": [
    "from mjaigym.board.function.yaku_name import YAKU_CHANNEL_MAP\n",
    "len(YAKU_CHANNEL_MAP)\n",
    "from ml.custom_observer import SampleCustomObserver\n",
    "from mjaigym.board import ArchiveBoard\n",
    "from mjaigym.reward import KyokuScoreReward\n",
    "\n",
    "env = SampleCustomObserver(board=ArchiveBoard(), reward_calclator_cls=KyokuScoreReward)\n",
    "env.get_tsumo_observe_channels_num()\n"
   ]
  }
 ]
}